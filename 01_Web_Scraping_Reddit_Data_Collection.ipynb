{
 "cells": [
  {
   "cell_type": "markdown",
   "metadata": {},
   "source": [
    "# 01 Web Scraping Submissions from Reddit"
   ]
  },
  {
   "cell_type": "markdown",
   "metadata": {},
   "source": [
    "In this notebook, we'll scrape the required submission data from Reddit for our analysis.  "
   ]
  },
  {
   "cell_type": "code",
   "execution_count": 1,
   "metadata": {},
   "outputs": [],
   "source": [
    "import requests\n",
    "import pandas as pd\n",
    "import time\n",
    "import os"
   ]
  },
  {
   "cell_type": "markdown",
   "metadata": {},
   "source": [
    "### Scraping Subreddits: r/Republican, r/democrats, and r/Libertarian"
   ]
  },
  {
   "cell_type": "markdown",
   "metadata": {},
   "source": [
    "The following subreddits were selected for their member size and usage frequency, allowing us to pull 3,000 posts from each for the 4-5 week time period before 11/28/2020.  \n",
    "* r/democrats: 158k Members\n",
    "* r/Republican: 163k Members\n",
    "* r/Libertarian: 442k Members\n",
    "\n",
    "The documentation for the pushshift.io API has not been updated to reflect the decrease in the maximum number of submissions allowed to be pulled during each request from 500 to 100, but that change has been reflected in the code below.\n",
    "\n",
    "Additionally, there was no clear indication of rate limit for requests that I could find, but the following information was posted by the project lead Jason Baumgartner on Reddit several months ago:  \n",
    "> In an effort to relieve some of the strain on the API, the rate limit is being adjusted to one request per second. *(Full post can be found [here](https://www.reddit.com/r/pushshift/comments/g7125k/in_an_effort_to_relieve_some_of_the_strain_on_the/))*\n",
    "\n",
    "To meet (and exceed this requirement), there is a three second delay between each request."
   ]
  },
  {
   "cell_type": "code",
   "execution_count": 2,
   "metadata": {
    "scrolled": true
   },
   "outputs": [
    {
     "name": "stdout",
     "output_type": "stream",
     "text": [
      "Request status good for request 1 of 30 on subreddit Republican\n",
      "Request status good for request 2 of 30 on subreddit Republican\n",
      "Request status good for request 3 of 30 on subreddit Republican\n",
      "Request status good for request 4 of 30 on subreddit Republican\n",
      "Request status good for request 5 of 30 on subreddit Republican\n",
      "Request status good for request 6 of 30 on subreddit Republican\n",
      "Request status good for request 7 of 30 on subreddit Republican\n",
      "Request status good for request 8 of 30 on subreddit Republican\n",
      "Request status good for request 9 of 30 on subreddit Republican\n",
      "Request status good for request 10 of 30 on subreddit Republican\n",
      "Request status good for request 11 of 30 on subreddit Republican\n",
      "Request status good for request 12 of 30 on subreddit Republican\n",
      "Request status good for request 13 of 30 on subreddit Republican\n",
      "Request status good for request 14 of 30 on subreddit Republican\n",
      "Request status good for request 15 of 30 on subreddit Republican\n",
      "Request status good for request 16 of 30 on subreddit Republican\n",
      "Request status good for request 17 of 30 on subreddit Republican\n",
      "Request status good for request 18 of 30 on subreddit Republican\n",
      "Request status good for request 19 of 30 on subreddit Republican\n",
      "Request status good for request 20 of 30 on subreddit Republican\n",
      "Request status good for request 21 of 30 on subreddit Republican\n",
      "Request status good for request 22 of 30 on subreddit Republican\n",
      "Request status good for request 23 of 30 on subreddit Republican\n",
      "Request status good for request 24 of 30 on subreddit Republican\n",
      "Request status good for request 25 of 30 on subreddit Republican\n",
      "Request status good for request 26 of 30 on subreddit Republican\n",
      "Request status good for request 27 of 30 on subreddit Republican\n",
      "Request status good for request 28 of 30 on subreddit Republican\n",
      "Request status good for request 29 of 30 on subreddit Republican\n",
      "Request status good for request 30 of 30 on subreddit Republican\n",
      "Request status good for request 1 of 30 on subreddit democrats\n",
      "Request status good for request 2 of 30 on subreddit democrats\n",
      "Request status good for request 3 of 30 on subreddit democrats\n",
      "Request status good for request 4 of 30 on subreddit democrats\n",
      "Request status good for request 5 of 30 on subreddit democrats\n",
      "Request status good for request 6 of 30 on subreddit democrats\n",
      "Request status good for request 7 of 30 on subreddit democrats\n",
      "Request status good for request 8 of 30 on subreddit democrats\n",
      "Request status good for request 9 of 30 on subreddit democrats\n",
      "Request status good for request 10 of 30 on subreddit democrats\n",
      "Request status good for request 11 of 30 on subreddit democrats\n",
      "Request status good for request 12 of 30 on subreddit democrats\n",
      "Request status good for request 13 of 30 on subreddit democrats\n",
      "Request status good for request 14 of 30 on subreddit democrats\n",
      "Request status good for request 15 of 30 on subreddit democrats\n",
      "Request status good for request 16 of 30 on subreddit democrats\n",
      "Request status good for request 17 of 30 on subreddit democrats\n",
      "Request status good for request 18 of 30 on subreddit democrats\n",
      "Request status good for request 19 of 30 on subreddit democrats\n",
      "Request status good for request 20 of 30 on subreddit democrats\n",
      "Request status good for request 21 of 30 on subreddit democrats\n",
      "Request status good for request 22 of 30 on subreddit democrats\n",
      "Request status good for request 23 of 30 on subreddit democrats\n",
      "Request status good for request 24 of 30 on subreddit democrats\n",
      "Request status good for request 25 of 30 on subreddit democrats\n",
      "Request status good for request 26 of 30 on subreddit democrats\n",
      "Request status good for request 27 of 30 on subreddit democrats\n",
      "Request status good for request 28 of 30 on subreddit democrats\n",
      "Request status good for request 29 of 30 on subreddit democrats\n",
      "Request status good for request 30 of 30 on subreddit democrats\n",
      "Request status good for request 1 of 30 on subreddit Libertarian\n",
      "Request status good for request 2 of 30 on subreddit Libertarian\n",
      "Request status good for request 3 of 30 on subreddit Libertarian\n",
      "Request status good for request 4 of 30 on subreddit Libertarian\n",
      "Request status good for request 5 of 30 on subreddit Libertarian\n",
      "Request status good for request 6 of 30 on subreddit Libertarian\n",
      "Request status good for request 7 of 30 on subreddit Libertarian\n",
      "Request status good for request 8 of 30 on subreddit Libertarian\n",
      "Request status good for request 9 of 30 on subreddit Libertarian\n",
      "Request status good for request 10 of 30 on subreddit Libertarian\n",
      "Request status good for request 11 of 30 on subreddit Libertarian\n",
      "Request status good for request 12 of 30 on subreddit Libertarian\n",
      "Request status good for request 13 of 30 on subreddit Libertarian\n",
      "Request status good for request 14 of 30 on subreddit Libertarian\n",
      "Request status good for request 15 of 30 on subreddit Libertarian\n",
      "Request status good for request 16 of 30 on subreddit Libertarian\n",
      "Request status good for request 17 of 30 on subreddit Libertarian\n",
      "Request status good for request 18 of 30 on subreddit Libertarian\n",
      "Request status good for request 19 of 30 on subreddit Libertarian\n",
      "Request status good for request 20 of 30 on subreddit Libertarian\n",
      "Request status good for request 21 of 30 on subreddit Libertarian\n",
      "Request status good for request 22 of 30 on subreddit Libertarian\n",
      "Request status good for request 23 of 30 on subreddit Libertarian\n",
      "Request status good for request 24 of 30 on subreddit Libertarian\n",
      "Request status good for request 25 of 30 on subreddit Libertarian\n",
      "Request status good for request 26 of 30 on subreddit Libertarian\n",
      "Request status good for request 27 of 30 on subreddit Libertarian\n",
      "Request status good for request 28 of 30 on subreddit Libertarian\n",
      "Request status good for request 29 of 30 on subreddit Libertarian\n",
      "Request status good for request 30 of 30 on subreddit Libertarian\n"
     ]
    }
   ],
   "source": [
    "# setting base url for scraping submissions with the pushshift.io API\n",
    "url = 'https://api.pushshift.io/reddit/search/submission'\n",
    "\n",
    "# list of subreddits to pull\n",
    "subreddits = ['Republican', 'democrats', 'Libertarian']\n",
    "\n",
    "# creating DataFrames for holding raw data pulls\n",
    "raw_gop_df = pd.DataFrame()\n",
    "raw_dem_df = pd.DataFrame()\n",
    "raw_librt_df = pd.DataFrame()\n",
    "\n",
    "# new max size for api (used to be 500)\n",
    "params = {'size' : 100} \n",
    "\n",
    "# number of desired unique submissions for training and testing on each subreddit\n",
    "target_submissions = 3_000\n",
    "\n",
    "# number of responses required to meet the desired target submissions\n",
    "num_gets = target_submissions//params['size'] # must be integer to be used in for loop\n",
    "\n",
    "# iterating through subreddits in list\n",
    "for subreddit in subreddits:\n",
    "    # setting params for request\n",
    "    params['subreddit'] = subreddit\n",
    "    params['before'] = '' # always want to start with most recent\n",
    "    \n",
    "    # iterate through number requests/responses needed\n",
    "    for get in range(num_gets):\n",
    "        \n",
    "        # passing requests url and params\n",
    "        response = requests.get(url, params)\n",
    "        \n",
    "        # checking status code and printing status message to STD.OUT for monitoring \n",
    "        if response.status_code == 200:\n",
    "            print(f'Request status good for request {get + 1} of {num_gets} on subreddit {subreddit}')\n",
    "        else:\n",
    "            print(f'Possible issue: {response.status_code}')\n",
    "        \n",
    "        # processing the received json response to create a DataFrame\n",
    "        data = response.json()\n",
    "        posts = data['data']\n",
    "        df = pd.DataFrame(posts)\n",
    "        \n",
    "        # sorting df by 'created_utc' to get the oldest timecode to use for next request\n",
    "        df = df.sort_values('created_utc', ascending=True).reset_index(drop=True)\n",
    "        \n",
    "        # setting param to pull requests before the last pull\n",
    "        params['before'] = df['created_utc'][0]\n",
    "\n",
    "        \n",
    "        # adding DataFrame to appropriate raw data frame \n",
    "        if subreddit == subreddits[0]:\n",
    "            raw_gop_df = raw_gop_df.append(df, ignore_index=True)\n",
    "        elif subreddit == subreddits[1]:\n",
    "            raw_dem_df = raw_dem_df.append(df, ignore_index=True)\n",
    "        else:\n",
    "            raw_librt_df = raw_librt_df.append(df, ignore_index=True)\n",
    "        \n",
    "        time.sleep(3)"
   ]
  },
  {
   "cell_type": "markdown",
   "metadata": {},
   "source": [
    "All data has been scrapped. Now to save them and move on to cleaning and EDA."
   ]
  },
  {
   "cell_type": "code",
   "execution_count": 5,
   "metadata": {},
   "outputs": [],
   "source": [
    "# saving raw DataFrames in case more info is needed from them later\n",
    "raw_gop_df.to_csv('./data/raw/raw_gop_data.csv', index=False)\n",
    "raw_dem_df.to_csv('./data/raw/raw_dem_data.csv', index=False)\n",
    "raw_librt_df.to_csv('./data/raw/raw_librt_data.csv', index=False)"
   ]
  }
 ],
 "metadata": {
  "kernelspec": {
   "display_name": "Python [conda env:dsi] *",
   "language": "python",
   "name": "conda-env-dsi-py"
  },
  "language_info": {
   "codemirror_mode": {
    "name": "ipython",
    "version": 3
   },
   "file_extension": ".py",
   "mimetype": "text/x-python",
   "name": "python",
   "nbconvert_exporter": "python",
   "pygments_lexer": "ipython3",
   "version": "3.7.9"
  }
 },
 "nbformat": 4,
 "nbformat_minor": 4
}
